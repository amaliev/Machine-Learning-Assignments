{
 "cells": [
  {
   "cell_type": "code",
   "execution_count": 1,
   "metadata": {},
   "outputs": [],
   "source": [
    "import numpy as np;\n",
    "from numpy import linalg as la;\n",
    "import matplotlib.pyplot as plt;\n",
    "from sklearn.datasets import load_wine;\n",
    "samples, labels = load_wine(return_X_y=True);\n",
    "samples = np.transpose(samples);"
   ]
  },
  {
   "cell_type": "markdown",
   "metadata": {},
   "source": [
    "# Standardization of Data"
   ]
  },
  {
   "cell_type": "markdown",
   "metadata": {},
   "source": [
    "### PCA on Centered Data"
   ]
  },
  {
   "cell_type": "code",
   "execution_count": 2,
   "metadata": {},
   "outputs": [],
   "source": [
    "samplesmean = np.repeat(np.reshape(np.asmatrix(samples.mean(1)),(13,1)),178,axis=1);\n",
    "samples1 = samples - samplesmean;"
   ]
  },
  {
   "cell_type": "code",
   "execution_count": 3,
   "metadata": {},
   "outputs": [
    {
     "name": "stdout",
     "output_type": "stream",
     "text": [
      "There are the two-dimensional features of the centered dataset.\n"
     ]
    },
    {
     "data": {
      "image/png": "[encoded data removed]",
      "text/plain": [
       "<Figure size 432x288 with 1 Axes>"
      ]
     },
     "metadata": {},
     "output_type": "display_data"
    }
   ],
   "source": [
    "U1,S1,Vt1 = la.svd(samples1);\n",
    "Us1 = U1[:,0:2];\n",
    "feat1 = np.matmul(np.transpose(Us1),samples1);\n",
    "feat10 = feat1[np.ix_((0,1),np.where(labels==0)[0])];\n",
    "feat11 = feat1[np.ix_((0,1),np.where(labels==1)[0])];\n",
    "feat12 = feat1[np.ix_((0,1),np.where(labels==2)[0])];\n",
    "print(\"There are the two-dimensional features of the centered dataset.\")\n",
    "plt.scatter(feat10[0,:].tolist(),feat10[1,:].tolist(),15,'r','s');\n",
    "plt.scatter(feat11[0,:].tolist(),feat11[1,:].tolist(),15,'g','^');\n",
    "plt.scatter(feat12[0,:].tolist(),feat12[1,:].tolist(),15,'b','o');"
   ]
  },
  {
   "cell_type": "markdown",
   "metadata": {},
   "source": [
    "### PCA on Standardized Data"
   ]
  },
  {
   "cell_type": "code",
   "execution_count": 4,
   "metadata": {},
   "outputs": [
    {
     "name": "stdout",
     "output_type": "stream",
     "text": [
      "[[17.57782045 16.30549754 16.25608694 ... 16.39196609 16.26843959\n",
      "  17.45429396]\n",
      " [ 1.53500398  1.5978404   2.11848502 ...  3.84199826  2.32494755\n",
      "   3.6804189 ]\n",
      " [ 8.88247841  7.82242955  9.75976023 ...  8.26107046  8.66315796\n",
      "  10.0156341 ]\n",
      " ...\n",
      " [ 4.56283226  4.60670565  4.51895888 ...  2.58852984  2.63240323\n",
      "   2.67627662]\n",
      " [ 5.53677584  4.80230557  4.47744372 ...  2.20341079  2.28815736\n",
      "   2.2599085 ]\n",
      " [ 3.39148583  3.34371843  3.77362508 ...  2.65905227  2.67497474\n",
      "   1.78331649]]\n"
     ]
    }
   ],
   "source": [
    "samplesstd = np.repeat(np.reshape(np.asmatrix(samples1.std(1)),(13,1)),178,axis=1);\n",
    "samples2 = samples / samplesstd;\n",
    "print(samples2);"
   ]
  },
  {
   "cell_type": "code",
   "execution_count": 5,
   "metadata": {},
   "outputs": [
    {
     "name": "stdout",
     "output_type": "stream",
     "text": [
      "There are the two-dimensional features of the centered and normalized dataset.\n"
     ]
    },
    {
     "data": {
      "image/png": "[encoded data removed]",
      "text/plain": [
       "<Figure size 432x288 with 1 Axes>"
      ]
     },
     "metadata": {},
     "output_type": "display_data"
    }
   ],
   "source": [
    "U2,S2,Vt2 = la.svd(samples2);\n",
    "Us2 = U2[:,0:2];\n",
    "feat2 = np.matmul(np.transpose(Us2),samples2);\n",
    "feat20 = feat2[np.ix_((0,1),np.where(labels==0)[0])];\n",
    "feat21 = feat2[np.ix_((0,1),np.where(labels==1)[0])];\n",
    "feat22 = feat2[np.ix_((0,1),np.where(labels==2)[0])];\n",
    "print(\"There are the two-dimensional features of the centered and normalized dataset.\");\n",
    "plt.scatter(feat20[0,:].tolist(),feat20[1,:].tolist(),15,'r','s');\n",
    "plt.scatter(feat21[0,:].tolist(),feat21[1,:].tolist(),15,'g','^');\n",
    "plt.scatter(feat22[0,:].tolist(),feat22[1,:].tolist(),15,'b','o');"
   ]
  },
  {
   "cell_type": "markdown",
   "metadata": {},
   "source": [
    "The second plot will lead to better classification. The data in the first plot does not separate easily, because the blue and green data are interspersed together. However, the data in the second plot is mostly separable because one can easily identify distinct red, blue, and green regions."
   ]
  },
  {
   "cell_type": "markdown",
   "metadata": {},
   "source": [
    "# Naive Bayes Classification"
   ]
  },
  {
   "cell_type": "code",
   "execution_count": 109,
   "metadata": {},
   "outputs": [],
   "source": [
    "def Gaussian(x, mean, std) :\n",
    "    return 1/np.sqrt(2*np.pi*std**2) * np.exp(-(x-mean)**2/(2*std**2));\n",
    "def NBClassifier(training, trlabels, test) :\n",
    "    # Split training data and calculate means and standard deviations\n",
    "    train0 = training[np.ix_((0,1),np.where(trlabels==0)[1])];\n",
    "    train1 = training[np.ix_((0,1),np.where(trlabels==1)[1])];\n",
    "    train2 = training[np.ix_((0,1),np.where(trlabels==2)[1])];\n",
    "    means = np.concatenate((np.concatenate((train0.mean(1),train1.mean(1)),1),train2.mean(1)),1);\n",
    "    stds = np.concatenate((np.concatenate((train0.std(1),train1.std(1)),1),train2.std(1)),1);\n",
    "    # Classify each test datum based on Gaussian output\n",
    "    result = [0]*np.shape(test)[1];\n",
    "    for i in range(len(result)) :\n",
    "        x1 = test[0,i];\n",
    "        x2 = test[1,i];\n",
    "        prob = [0]*3;\n",
    "        prob[0] = Gaussian(x1,means[0,0],stds[0,0]) * Gaussian(x2,means[1,0],stds[1,0]);\n",
    "        prob[1] = Gaussian(x1,means[0,1],stds[0,1]) * Gaussian(x2,means[1,1],stds[1,1]);\n",
    "        prob[2] = Gaussian(x1,means[0,2],stds[0,2]) * Gaussian(x2,means[1,2],stds[1,2]);\n",
    "        result[i] = np.argmax(prob);\n",
    "    return result;"
   ]
  },
  {
   "cell_type": "markdown",
   "metadata": {},
   "source": [
    "### Case I: My Classifier on Centered Data"
   ]
  },
  {
   "cell_type": "code",
   "execution_count": 119,
   "metadata": {},
   "outputs": [
    {
     "name": "stdout",
     "output_type": "stream",
     "text": [
      "The accuracies for the five folds are:  [0.6666666666666666, 0.8055555555555556, 0.8333333333333334, 0.7777777777777778, 0.7222222222222222]\n",
      "Mean:  0.7611111111111112\n",
      "Standard deviation:  0.05983516452371673\n"
     ]
    }
   ],
   "source": [
    "labels = np.reshape(labels,(1,178));\n",
    "feat1a = np.concatenate((feat1,labels));\n",
    "np.random.shuffle(feat1a.T);\n",
    "\n",
    "kcross1 = NBClassifier(feat1a[0:2,36:178],feat1a[2,36:178],feat1a[0:2,0:36]);\n",
    "train2 = np.concatenate((feat1a[0:2,0:36],feat1a[0:2,72:178]),1);\n",
    "labels2 = np.concatenate((feat1a[2,0:36],feat1a[2,72:178]),1);\n",
    "kcross2 = NBClassifier(train2,labels2,feat1a[0:2,36:72]);\n",
    "train3 = np.concatenate((feat1a[0:2,0:72],feat1a[0:2,108:178]),1);\n",
    "labels3 = np.concatenate((feat1a[2,0:72],feat1a[2,108:178]),1);\n",
    "kcross3 = NBClassifier(train3,labels3,feat1a[0:2,72:108]);\n",
    "train4 = np.concatenate((feat1a[0:2,0:108],feat1a[0:2,143:178]),1);\n",
    "labels4 = np.concatenate((feat1a[2,0:108],feat1a[2,143:178]),1);\n",
    "kcross4 = NBClassifier(train4,labels4,feat1a[0:2,108:143]);\n",
    "kcross5 = NBClassifier(feat1a[0:2,0:143],feat1a[2,0:143],feat1a[0:2,143:178]);\n",
    "\n",
    "accs = [];\n",
    "accs.append(len(np.where(kcross1-feat1a[2,0:36] == 0)[1])/36);\n",
    "accs.append(len(np.where(kcross2-feat1a[2,36:72] == 0)[1])/36);\n",
    "accs.append(len(np.where(kcross3-feat1a[2,72:108] == 0)[1])/36);\n",
    "accs.append(len(np.where(kcross4-feat1a[2,108:143] == 0)[1])/36);\n",
    "accs.append(len(np.where(kcross5-feat1a[2,143:178] == 0)[1])/36);\n",
    "\n",
    "print(\"The accuracies for the five folds are: \",accs);\n",
    "print(\"Mean: \",np.mean(accs));\n",
    "print(\"Standard deviation: \",np.std(accs));"
   ]
  },
  {
   "cell_type": "markdown",
   "metadata": {},
   "source": [
    "### Case II: My Classifier on Standardized Data"
   ]
  },
  {
   "cell_type": "code",
   "execution_count": 120,
   "metadata": {},
   "outputs": [
    {
     "name": "stdout",
     "output_type": "stream",
     "text": [
      "The accuracies for the five folds are:  [0.9722222222222222, 0.9166666666666666, 0.8333333333333334, 0.8888888888888888, 0.9444444444444444]\n",
      "Mean:  0.9111111111111111\n",
      "Standard deviation:  0.04779069592801458\n"
     ]
    }
   ],
   "source": [
    "feat2a = np.concatenate((feat2,labels));\n",
    "np.random.shuffle(feat2a.T);\n",
    "\n",
    "kcross1 = NBClassifier(feat2a[0:2,36:178],feat2a[2,36:178],feat2a[0:2,0:36]);\n",
    "train2 = np.concatenate((feat2a[0:2,0:36],feat2a[0:2,72:178]),1);\n",
    "labels2 = np.concatenate((feat2a[2,0:36],feat2a[2,72:178]),1);\n",
    "kcross2 = NBClassifier(train2,labels2,feat2a[0:2,36:72]);\n",
    "train3 = np.concatenate((feat2a[0:2,0:72],feat2a[0:2,108:178]),1);\n",
    "labels3 = np.concatenate((feat2a[2,0:72],feat2a[2,108:178]),1);\n",
    "kcross3 = NBClassifier(train3,labels3,feat2a[0:2,72:108]);\n",
    "train4 = np.concatenate((feat2a[0:2,0:108],feat2a[0:2,143:178]),1);\n",
    "labels4 = np.concatenate((feat2a[2,0:108],feat2a[2,143:178]),1);\n",
    "kcross4 = NBClassifier(train4,labels4,feat2a[0:2,108:143]);\n",
    "kcross5 = NBClassifier(feat2a[0:2,0:143],feat2a[2,0:143],feat2a[0:2,143:178]);\n",
    "\n",
    "accs = [];\n",
    "accs.append(len(np.where(kcross1-feat2a[2,0:36] == 0)[1])/36);\n",
    "accs.append(len(np.where(kcross2-feat2a[2,36:72] == 0)[1])/36);\n",
    "accs.append(len(np.where(kcross3-feat2a[2,72:108] == 0)[1])/36);\n",
    "accs.append(len(np.where(kcross4-feat2a[2,108:143] == 0)[1])/36);\n",
    "accs.append(len(np.where(kcross5-feat2a[2,143:178] == 0)[1])/36);\n",
    "\n",
    "print(\"The accuracies for the five folds are: \",accs);\n",
    "print(\"Mean: \",np.mean(accs));\n",
    "print(\"Standard deviation: \",np.std(accs));"
   ]
  },
  {
   "cell_type": "markdown",
   "metadata": {},
   "source": [
    "### Case III: sklearn Classifier on Standardized Data"
   ]
  },
  {
   "cell_type": "code",
   "execution_count": 127,
   "metadata": {},
   "outputs": [
    {
     "name": "stdout",
     "output_type": "stream",
     "text": [
      "[0. 0. 2. 0. 1. 2. 1. 0. 1. 0. 1. 1. 1. 2. 2. 0. 2. 2. 2. 1. 1. 2. 2. 2.\n",
      " 0. 0. 1. 1. 1. 0. 0. 1. 1. 0. 1. 1.]\n"
     ]
    }
   ],
   "source": [
    "from sklearn.naive_bayes import GaussianNB;\n",
    "\n",
    "gauss = GaussianNB();\n",
    "gauss.fit(feat2a[0:2,36:178].T,np.ravel(feat2a[2,36:178].T));\n",
    "kcross1 = gauss.predict(feat2a[0:2,0:36].T);\n",
    "gauss.fit(train2.T,np.ravel(labels2.T));\n",
    "kcross2 = gauss.predict(feat2a[0:2,36:72].T);\n",
    "gauss.fit(train3.T,np.ravel(labels3.T));\n",
    "kcross3 = gauss.predict(feat2a[0:2,72:108].T);\n",
    "gauss.fit(train4.T,np.ravel(labels4.T));\n",
    "kcross4 = gauss.predict(feat2a[0:2,108:143].T);\n",
    "gauss.fit(feat2a[0:2,0:143].T,np.ravel(feat2a[2,0:143].T));\n",
    "kcross5 = gauss.predict(feat2a[0:2,143:178].T);\n",
    "\n",
    "accs = [];\n",
    "accs.append(len(np.where(kcross1-feat2a[2,0:36] == 0)[1])/36);\n",
    "accs.append(len(np.where(kcross2-feat2a[2,36:72] == 0)[1])/36);\n",
    "accs.append(len(np.where(kcross3-feat2a[2,72:108] == 0)[1])/36);\n",
    "accs.append(len(np.where(kcross4-feat2a[2,108:143] == 0)[1])/36);\n",
    "accs.append(len(np.where(kcross5-feat2a[2,143:178] == 0)[1])/36);\n",
    "\n",
    "print(\"The accuracies for the five folds are: \",accs);\n",
    "print(\"Mean: \",np.mean(accs));\n",
    "print(\"Standard deviation: \",np.std(accs));"
   ]
  },
  {
   "cell_type": "code",
   "execution_count": null,
   "metadata": {},
   "outputs": [],
   "source": []
  }
 ],
 "metadata": {
  "kernelspec": {
   "display_name": "Python 3",
   "language": "python",
   "name": "python3"
  },
  "language_info": {
   "codemirror_mode": {
    "name": "ipython",
    "version": 3
   },
   "file_extension": ".py",
   "mimetype": "text/x-python",
   "name": "python",
   "nbconvert_exporter": "python",
   "pygments_lexer": "ipython3",
   "version": "3.6.5"
  }
 },
 "nbformat": 4,
 "nbformat_minor": 2
}

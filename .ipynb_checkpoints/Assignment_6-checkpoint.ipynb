{
 "cells": [
  {
   "cell_type": "markdown",
   "metadata": {},
   "source": [
    "# Least Squares Regression"
   ]
  },
  {
   "cell_type": "code",
   "execution_count": 1,
   "metadata": {},
   "outputs": [],
   "source": [
    "import numpy as np;\n",
    "def LSRegression(Xtr, ytr, Xtst, ytst, errret=True) :\n",
    "    wn = np.matmul(np.linalg.inv(np.matmul(Xtr.T,Xtr)),np.matmul(Xtr.T,ytr));\n",
    "    yr = np.matmul(Xtst,wn);\n",
    "    if (errret == False) :\n",
    "        return(yr);\n",
    "    error = 0;\n",
    "    for i in range(len(ytst)):\n",
    "        error += (ytst[i,0]-yr[i,0])**2;\n",
    "    return error/len(ytst);"
   ]
  },
  {
   "cell_type": "code",
   "execution_count": 2,
   "metadata": {},
   "outputs": [
    {
     "name": "stdout",
     "output_type": "stream",
     "text": [
      "The average prediction error for the 5 folds is:  23.957149081151005\n"
     ]
    }
   ],
   "source": [
    "from sklearn.datasets import load_boston;\n",
    "X,y = load_boston(True);\n",
    "Xy = np.hstack((X,np.ones((506,1)),np.reshape(y,(506,1))));\n",
    "np.random.shuffle(Xy);\n",
    "X = Xy[:,0:14];\n",
    "y = Xy[:,14:15];\n",
    "Xtr = [];\n",
    "ytr = [];\n",
    "error = [];\n",
    "index = [0,102,203,304,405,506];\n",
    "for i in range(5) :\n",
    "    Xtr.append(np.concatenate((X[0:index[i],:],X[index[i+1]:506,:]),0));\n",
    "    ytr.append(np.concatenate((y[0:index[i],:],y[index[i+1]:506,:]),0));\n",
    "    error.append(LSRegression(Xtr[i],ytr[i],X[index[i]:index[i+1],:],y[index[i]:index[i+1],:]));\n",
    "erroravg = np.sum(error) / 5;\n",
    "print(\"The average prediction error for the 5 folds is: \",erroravg);"
   ]
  },
  {
   "cell_type": "code",
   "execution_count": 7,
   "metadata": {},
   "outputs": [
    {
     "name": "stdout",
     "output_type": "stream",
     "text": [
      "Here is the plot of Predicted vs. Actual values:\n",
      "The data is roughly approximated by the green dotted line y=x.\n"
     ]
    },
    {
     "data": {
      "image/png": "[encoded data removed]",
      "text/plain": [
       "<Figure size 432x288 with 1 Axes>"
      ]
     },
     "metadata": {},
     "output_type": "display_data"
    }
   ],
   "source": [
    "import matplotlib.pyplot as plt;\n",
    "yr = [];\n",
    "for i in range(5) :\n",
    "    yr.append(LSRegression(Xtr[i],ytr[i],X[index[i]:index[i+1],:],y[index[i]:index[i+1],:],False));\n",
    "yr = np.vstack((yr[0],yr[1],yr[2],yr[3],yr[4]));\n",
    "print(\"Here is the plot of Predicted vs. Actual values:\");\n",
    "print(\"The data is roughly approximated by the green dotted line y=x.\");\n",
    "fig = plt.figure();\n",
    "ax = fig.add_subplot(111);\n",
    "ax.scatter(y.tolist(),yr.tolist(),15);\n",
    "ax.plot(np.array(ax.get_xlim()),np.array(ax.get_xlim()),'g--');\n",
    "plt.show();"
   ]
  },
  {
   "cell_type": "markdown",
   "metadata": {},
   "source": [
    "# Ridge Regression"
   ]
  },
  {
   "cell_type": "code",
   "execution_count": 4,
   "metadata": {},
   "outputs": [],
   "source": [
    "import numpy as np;\n",
    "def RidgeRegression(Xtr, ytr, Xtst, ytst, lamb) :\n",
    "    wn = np.matmul(np.linalg.inv(np.add(np.matmul(Xtr.T,Xtr),lamb*np.identity(np.shape(Xtr)[1]))),np.matmul(Xtr.T,ytr));\n",
    "    yr = np.matmul(Xtst,wn);\n",
    "    error = 0;\n",
    "    for i in range(len(ytst)):\n",
    "        error += (ytst[i,0]-yr[i,0])**2;\n",
    "    return error/len(ytst);"
   ]
  },
  {
   "cell_type": "code",
   "execution_count": 5,
   "metadata": {},
   "outputs": [
    {
     "name": "stdout",
     "output_type": "stream",
     "text": [
      "The most accurate lambda value is:  0.02\n"
     ]
    }
   ],
   "source": [
    "np.random.shuffle(Xy);\n",
    "X = Xy[:,0:14];\n",
    "y = Xy[:,14:15];\n",
    "lambs = [0.02,0.04,0.06,0.08,0.10];\n",
    "erroravg = [];\n",
    "for lamb in lambs :\n",
    "    Xtr = [];\n",
    "    ytr = [];\n",
    "    error = [];\n",
    "    index = [0,102,203,304,405,506];\n",
    "    for i in range(4) :\n",
    "        Xtr.append(np.concatenate((X[0:index[i],:],X[index[i+2]:506,:]),0));\n",
    "        ytr.append(np.concatenate((y[0:index[i],:],y[index[i+2]:506,:]),0));\n",
    "        error.append(RidgeRegression(Xtr[i],ytr[i],X[index[i]:index[i+1],:],y[index[i]:index[i+1],:],lamb));\n",
    "    Xtr.append(X[102:405,:]);\n",
    "    ytr.append(y[102:405,:]);\n",
    "    error.append(RidgeRegression(Xtr[4],ytr[4],X[405:506,:],y[405:506,:],lamb));\n",
    "    erroravg.append(np.sum(error)/5);\n",
    "bestlamb = lambs[np.argmin(erroravg)];\n",
    "print(\"The most accurate lambda value is: \",bestlamb);"
   ]
  },
  {
   "cell_type": "code",
   "execution_count": 6,
   "metadata": {},
   "outputs": [
    {
     "name": "stdout",
     "output_type": "stream",
     "text": [
      "The average prediction error for the 5 folds is:  25.153155148921364\n"
     ]
    }
   ],
   "source": [
    "Xtr = [];\n",
    "ytr = [];\n",
    "error = [];\n",
    "index = [0,102,203,304,405,506];\n",
    "for i in range(5) :\n",
    "    Xtr.append(np.concatenate((X[0:index[i],:],X[index[i+1]:506,:]),0));\n",
    "    ytr.append(np.concatenate((y[0:index[i],:],y[index[i+1]:506,:]),0));\n",
    "    error.append(RidgeRegression(Xtr[i],ytr[i],X[index[i]:index[i+1],:],y[index[i]:index[i+1],:],1));\n",
    "erroravg = np.sum(error) / 5;\n",
    "print(\"The average prediction error for the 5 folds is: \",erroravg);"
   ]
  },
  {
   "cell_type": "code",
   "execution_count": null,
   "metadata": {},
   "outputs": [],
   "source": []
  }
 ],
 "metadata": {
  "kernelspec": {
   "display_name": "Python 3",
   "language": "python",
   "name": "python3"
  },
  "language_info": {
   "codemirror_mode": {
    "name": "ipython",
    "version": 3
   },
   "file_extension": ".py",
   "mimetype": "text/x-python",
   "name": "python",
   "nbconvert_exporter": "python",
   "pygments_lexer": "ipython3",
   "version": "3.6.5"
  }
 },
 "nbformat": 4,
 "nbformat_minor": 2
}
